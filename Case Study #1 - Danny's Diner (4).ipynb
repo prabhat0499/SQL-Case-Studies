{
 "cells": [
  {
   "cell_type": "markdown",
   "id": "adb98ed4-d7ce-4e03-bcd8-2c420e9d022e",
   "metadata": {},
   "source": [
    "# Danny's Dinner - Case Study 1"
   ]
  },
  {
   "cell_type": "code",
   "execution_count": null,
   "id": "a603f24a-de4f-47e6-b48d-da93796fe020",
   "metadata": {},
   "outputs": [],
   "source": [
    "import pandas as pd\n",
    "import sqlite3\n",
    "import sql\n",
    "sql.style = 'plain'\n",
    "%load_ext sql\n",
    "connection=sqlite3.connect(\"question_bank.db\")\n",
    "print(\"Successfully connected to SQL database\")\n",
    "# Connect to SQLite\n",
    "%sql sqlite:///question_bank.db\n",
    "print(\"success\")"
   ]
  },
  {
   "cell_type": "code",
   "execution_count": null,
   "id": "335be46b-7236-43dd-8284-d997cd8cdf5f",
   "metadata": {},
   "outputs": [],
   "source": [
    "%%sql\n",
    "DROP TABLE sales;\n",
    "DROP TABLE menu;\n",
    "DROP TABLE members;\n",
    "CREATE TABLE sales (\n",
    "  \"customer_id\" VARCHAR(1),\n",
    "  \"order_date\" DATE,\n",
    "  \"product_id\" INTEGER\n",
    ");\n",
    "\n",
    "INSERT INTO sales\n",
    "  (\"customer_id\", \"order_date\", \"product_id\")\n",
    "VALUES\n",
    "  ('A', '2021-01-01', '1'),\n",
    "  ('A', '2021-01-01', '2'),\n",
    "  ('A', '2021-01-07', '2'),\n",
    "  ('A', '2021-01-10', '3'),\n",
    "  ('A', '2021-01-11', '3'),\n",
    "  ('A', '2021-01-11', '3'),\n",
    "  ('B', '2021-01-01', '2'),\n",
    "  ('B', '2021-01-02', '2'),\n",
    "  ('B', '2021-01-04', '1'),\n",
    "  ('B', '2021-01-11', '1'),\n",
    "  ('B', '2021-01-16', '3'),\n",
    "  ('B', '2021-02-01', '3'),\n",
    "  ('C', '2021-01-01', '3'),\n",
    "  ('C', '2021-01-01', '3'),\n",
    "  ('C', '2021-01-07', '3');\n",
    " \n",
    "\n",
    "CREATE TABLE menu (\n",
    "  \"product_id\" INTEGER,\n",
    "  \"product_name\" VARCHAR(5),\n",
    "  \"price\" INTEGER\n",
    ");\n",
    "\n",
    "INSERT INTO menu\n",
    "  (\"product_id\", \"product_name\", \"price\")\n",
    "VALUES\n",
    "  ('1', 'sushi', '10'),\n",
    "  ('2', 'curry', '15'),\n",
    "  ('3', 'ramen', '12');\n",
    "  \n",
    "\n",
    "CREATE TABLE members (\n",
    "  \"customer_id\" VARCHAR(1),\n",
    "  \"join_date\" DATE\n",
    ");\n",
    "\n",
    "INSERT INTO members\n",
    "  (\"customer_id\", \"join_date\")\n",
    "VALUES\n",
    "  ('A', '2021-01-07'),\n",
    "  ('B', '2021-01-09');"
   ]
  },
  {
   "cell_type": "code",
   "execution_count": 4,
   "id": "09fecb5d-143b-44c3-bad1-570f58ce4430",
   "metadata": {},
   "outputs": [
    {
     "name": "stdout",
     "output_type": "stream",
     "text": [
      " * sqlite:///question_bank.db\n",
      "Done.\n"
     ]
    },
    {
     "data": {
      "text/html": [
       "<table>\n",
       "    <thead>\n",
       "        <tr>\n",
       "            <th>customer_id</th>\n",
       "            <th>order_date</th>\n",
       "            <th>product_id</th>\n",
       "        </tr>\n",
       "    </thead>\n",
       "    <tbody>\n",
       "        <tr>\n",
       "            <td>A</td>\n",
       "            <td>2021-01-01</td>\n",
       "            <td>1</td>\n",
       "        </tr>\n",
       "        <tr>\n",
       "            <td>A</td>\n",
       "            <td>2021-01-01</td>\n",
       "            <td>2</td>\n",
       "        </tr>\n",
       "        <tr>\n",
       "            <td>A</td>\n",
       "            <td>2021-01-07</td>\n",
       "            <td>2</td>\n",
       "        </tr>\n",
       "        <tr>\n",
       "            <td>A</td>\n",
       "            <td>2021-01-10</td>\n",
       "            <td>3</td>\n",
       "        </tr>\n",
       "        <tr>\n",
       "            <td>A</td>\n",
       "            <td>2021-01-11</td>\n",
       "            <td>3</td>\n",
       "        </tr>\n",
       "        <tr>\n",
       "            <td>A</td>\n",
       "            <td>2021-01-11</td>\n",
       "            <td>3</td>\n",
       "        </tr>\n",
       "        <tr>\n",
       "            <td>B</td>\n",
       "            <td>2021-01-01</td>\n",
       "            <td>2</td>\n",
       "        </tr>\n",
       "        <tr>\n",
       "            <td>B</td>\n",
       "            <td>2021-01-02</td>\n",
       "            <td>2</td>\n",
       "        </tr>\n",
       "        <tr>\n",
       "            <td>B</td>\n",
       "            <td>2021-01-04</td>\n",
       "            <td>1</td>\n",
       "        </tr>\n",
       "        <tr>\n",
       "            <td>B</td>\n",
       "            <td>2021-01-11</td>\n",
       "            <td>1</td>\n",
       "        </tr>\n",
       "        <tr>\n",
       "            <td>B</td>\n",
       "            <td>2021-01-16</td>\n",
       "            <td>3</td>\n",
       "        </tr>\n",
       "        <tr>\n",
       "            <td>B</td>\n",
       "            <td>2021-02-01</td>\n",
       "            <td>3</td>\n",
       "        </tr>\n",
       "        <tr>\n",
       "            <td>C</td>\n",
       "            <td>2021-01-01</td>\n",
       "            <td>3</td>\n",
       "        </tr>\n",
       "        <tr>\n",
       "            <td>C</td>\n",
       "            <td>2021-01-01</td>\n",
       "            <td>3</td>\n",
       "        </tr>\n",
       "        <tr>\n",
       "            <td>C</td>\n",
       "            <td>2021-01-07</td>\n",
       "            <td>3</td>\n",
       "        </tr>\n",
       "    </tbody>\n",
       "</table>"
      ],
      "text/plain": [
       "[('A', '2021-01-01', 1),\n",
       " ('A', '2021-01-01', 2),\n",
       " ('A', '2021-01-07', 2),\n",
       " ('A', '2021-01-10', 3),\n",
       " ('A', '2021-01-11', 3),\n",
       " ('A', '2021-01-11', 3),\n",
       " ('B', '2021-01-01', 2),\n",
       " ('B', '2021-01-02', 2),\n",
       " ('B', '2021-01-04', 1),\n",
       " ('B', '2021-01-11', 1),\n",
       " ('B', '2021-01-16', 3),\n",
       " ('B', '2021-02-01', 3),\n",
       " ('C', '2021-01-01', 3),\n",
       " ('C', '2021-01-01', 3),\n",
       " ('C', '2021-01-07', 3)]"
      ]
     },
     "execution_count": 4,
     "metadata": {},
     "output_type": "execute_result"
    }
   ],
   "source": [
    "%%sql\n",
    "SELECT * FROM sales"
   ]
  },
  {
   "cell_type": "code",
   "execution_count": 5,
   "id": "c157d8ce-3292-4caa-bd0e-3a8b5295eed6",
   "metadata": {},
   "outputs": [
    {
     "name": "stdout",
     "output_type": "stream",
     "text": [
      " * sqlite:///question_bank.db\n",
      "Done.\n"
     ]
    },
    {
     "data": {
      "text/html": [
       "<table>\n",
       "    <thead>\n",
       "        <tr>\n",
       "            <th>product_id</th>\n",
       "            <th>product_name</th>\n",
       "            <th>price</th>\n",
       "        </tr>\n",
       "    </thead>\n",
       "    <tbody>\n",
       "        <tr>\n",
       "            <td>1</td>\n",
       "            <td>sushi</td>\n",
       "            <td>10</td>\n",
       "        </tr>\n",
       "        <tr>\n",
       "            <td>2</td>\n",
       "            <td>curry</td>\n",
       "            <td>15</td>\n",
       "        </tr>\n",
       "        <tr>\n",
       "            <td>3</td>\n",
       "            <td>ramen</td>\n",
       "            <td>12</td>\n",
       "        </tr>\n",
       "    </tbody>\n",
       "</table>"
      ],
      "text/plain": [
       "[(1, 'sushi', 10), (2, 'curry', 15), (3, 'ramen', 12)]"
      ]
     },
     "execution_count": 5,
     "metadata": {},
     "output_type": "execute_result"
    }
   ],
   "source": [
    "%%sql\n",
    "SELECT * FROM menu"
   ]
  },
  {
   "cell_type": "code",
   "execution_count": 6,
   "id": "ce240a95-e782-4712-b78f-f674433bd99c",
   "metadata": {},
   "outputs": [
    {
     "name": "stdout",
     "output_type": "stream",
     "text": [
      " * sqlite:///question_bank.db\n",
      "Done.\n"
     ]
    },
    {
     "data": {
      "text/html": [
       "<table>\n",
       "    <thead>\n",
       "        <tr>\n",
       "            <th>customer_id</th>\n",
       "            <th>join_date</th>\n",
       "        </tr>\n",
       "    </thead>\n",
       "    <tbody>\n",
       "        <tr>\n",
       "            <td>A</td>\n",
       "            <td>2021-01-07</td>\n",
       "        </tr>\n",
       "        <tr>\n",
       "            <td>B</td>\n",
       "            <td>2021-01-09</td>\n",
       "        </tr>\n",
       "    </tbody>\n",
       "</table>"
      ],
      "text/plain": [
       "[('A', '2021-01-07'), ('B', '2021-01-09')]"
      ]
     },
     "execution_count": 6,
     "metadata": {},
     "output_type": "execute_result"
    }
   ],
   "source": [
    "%%sql\n",
    "SELECT * FROM members"
   ]
  },
  {
   "cell_type": "markdown",
   "id": "4baba2b5-1234-43a1-8081-2cb0d797507e",
   "metadata": {},
   "source": [
    "1. What is the total amount each customer spent at the restaurant?\n",
    "2. How many days has each customer visited the restaurant?\n",
    "3. What was the first item from the menu purchased by each customer?\n",
    "4. What is the most purchased item on the menu and how many times was it purchased by all customers?\n",
    "5. Which item was the most popular for each customer?\n",
    "6. Which item was purchased first by the customer after they became a member?\n",
    "7. Which item was purchased just before the customer became a member?\n",
    "8. What is the total items and amount spent for each member before they became a member?\n",
    "9. If each $1 spent equates to 10 points and sushi has a 2x points multiplier - how many points would each customer have?\n",
    "10. In the first week after a customer joins the program (including their join date) they earn 2x points on all items, not just sushi - how many points do customer A and B have at the end of January?"
   ]
  },
  {
   "cell_type": "markdown",
   "id": "12b01135-3598-4bd6-af89-545506379cce",
   "metadata": {},
   "source": [
    "## 1. What is the total amount each customer spent at the restaurant?"
   ]
  },
  {
   "cell_type": "code",
   "execution_count": 9,
   "id": "3f3ef474-e2a7-4278-be45-39efbc543e56",
   "metadata": {},
   "outputs": [
    {
     "name": "stdout",
     "output_type": "stream",
     "text": [
      " * sqlite:///question_bank.db\n",
      "Done.\n"
     ]
    },
    {
     "data": {
      "text/html": [
       "<table>\n",
       "    <thead>\n",
       "        <tr>\n",
       "            <th>customer_id</th>\n",
       "            <th>total_amt</th>\n",
       "        </tr>\n",
       "    </thead>\n",
       "    <tbody>\n",
       "        <tr>\n",
       "            <td>A</td>\n",
       "            <td>76</td>\n",
       "        </tr>\n",
       "        <tr>\n",
       "            <td>B</td>\n",
       "            <td>74</td>\n",
       "        </tr>\n",
       "        <tr>\n",
       "            <td>C</td>\n",
       "            <td>36</td>\n",
       "        </tr>\n",
       "    </tbody>\n",
       "</table>"
      ],
      "text/plain": [
       "[('A', 76), ('B', 74), ('C', 36)]"
      ]
     },
     "execution_count": 9,
     "metadata": {},
     "output_type": "execute_result"
    }
   ],
   "source": [
    "%%sql\n",
    "-- total amt - sum, each customer, have to join sales and menu\n",
    "\n",
    "SELECT s.customer_id,sum(m.price) AS total_amt\n",
    "FROM sales s\n",
    "LEFT JOIN menu m\n",
    "ON s.product_id=m.product_id\n",
    "GROUP BY s.customer_id"
   ]
  },
  {
   "cell_type": "markdown",
   "id": "94e72b82-e12a-4f1c-9662-7b59d6e160ba",
   "metadata": {},
   "source": [
    "## 2. How many days has each customer visited the restaurant?"
   ]
  },
  {
   "cell_type": "code",
   "execution_count": 10,
   "id": "e859ef5e-8e3c-4faa-8b88-4215a3be1175",
   "metadata": {},
   "outputs": [
    {
     "name": "stdout",
     "output_type": "stream",
     "text": [
      " * sqlite:///question_bank.db\n",
      "Done.\n"
     ]
    },
    {
     "data": {
      "text/html": [
       "<table>\n",
       "    <thead>\n",
       "        <tr>\n",
       "            <th>customer_id</th>\n",
       "            <th>no_of_days</th>\n",
       "        </tr>\n",
       "    </thead>\n",
       "    <tbody>\n",
       "        <tr>\n",
       "            <td>A</td>\n",
       "            <td>6</td>\n",
       "        </tr>\n",
       "        <tr>\n",
       "            <td>B</td>\n",
       "            <td>6</td>\n",
       "        </tr>\n",
       "        <tr>\n",
       "            <td>C</td>\n",
       "            <td>3</td>\n",
       "        </tr>\n",
       "    </tbody>\n",
       "</table>"
      ],
      "text/plain": [
       "[('A', 6), ('B', 6), ('C', 3)]"
      ]
     },
     "execution_count": 10,
     "metadata": {},
     "output_type": "execute_result"
    }
   ],
   "source": [
    "%%sql\n",
    "\n",
    "SELECT customer_id, COUNT(order_date) AS no_of_days\n",
    "FROM sales\n",
    "GROUP BY customer_id"
   ]
  },
  {
   "cell_type": "code",
   "execution_count": 172,
   "id": "ee1ede1d-c35c-42ce-9e96-c2f33d6aea06",
   "metadata": {},
   "outputs": [
    {
     "name": "stdout",
     "output_type": "stream",
     "text": [
      " * sqlite:///question_bank.db\n",
      "Done.\n"
     ]
    },
    {
     "data": {
      "text/html": [
       "<table>\n",
       "    <thead>\n",
       "        <tr>\n",
       "            <th>customer_id</th>\n",
       "            <th>no_of_days</th>\n",
       "        </tr>\n",
       "    </thead>\n",
       "    <tbody>\n",
       "        <tr>\n",
       "            <td>A</td>\n",
       "            <td>4</td>\n",
       "        </tr>\n",
       "        <tr>\n",
       "            <td>B</td>\n",
       "            <td>6</td>\n",
       "        </tr>\n",
       "        <tr>\n",
       "            <td>C</td>\n",
       "            <td>2</td>\n",
       "        </tr>\n",
       "    </tbody>\n",
       "</table>"
      ],
      "text/plain": [
       "[('A', 4), ('B', 6), ('C', 2)]"
      ]
     },
     "execution_count": 172,
     "metadata": {},
     "output_type": "execute_result"
    }
   ],
   "source": [
    "%%sql\n",
    "-- FINAL Query\n",
    "\n",
    "SELECT customer_id, COUNT(DISTINCT order_date) AS no_of_days\n",
    "FROM sales\n",
    "GROUP BY customer_id"
   ]
  },
  {
   "cell_type": "markdown",
   "id": "fe33f8b0-353f-42dd-92bd-7894776b6b73",
   "metadata": {},
   "source": [
    "## 3. What was the first item from the menu purchased by each customer?"
   ]
  },
  {
   "cell_type": "code",
   "execution_count": 173,
   "id": "11add17c-49a0-4015-b047-6a0a94342bf0",
   "metadata": {},
   "outputs": [
    {
     "name": "stdout",
     "output_type": "stream",
     "text": [
      " * sqlite:///question_bank.db\n",
      "Done.\n"
     ]
    },
    {
     "data": {
      "text/html": [
       "<table>\n",
       "    <thead>\n",
       "        <tr>\n",
       "            <th>customer_id</th>\n",
       "            <th>product_name</th>\n",
       "            <th>first_date</th>\n",
       "        </tr>\n",
       "    </thead>\n",
       "    <tbody>\n",
       "        <tr>\n",
       "            <td>A</td>\n",
       "            <td>sushi</td>\n",
       "            <td>2021-01-01</td>\n",
       "        </tr>\n",
       "        <tr>\n",
       "            <td>B</td>\n",
       "            <td>curry</td>\n",
       "            <td>2021-01-01</td>\n",
       "        </tr>\n",
       "        <tr>\n",
       "            <td>C</td>\n",
       "            <td>ramen</td>\n",
       "            <td>2021-01-01</td>\n",
       "        </tr>\n",
       "    </tbody>\n",
       "</table>"
      ],
      "text/plain": [
       "[('A', 'sushi', '2021-01-01'),\n",
       " ('B', 'curry', '2021-01-01'),\n",
       " ('C', 'ramen', '2021-01-01')]"
      ]
     },
     "execution_count": 173,
     "metadata": {},
     "output_type": "execute_result"
    }
   ],
   "source": [
    "%%sql\n",
    "SELECT s.customer_id, m.product_name,MIN(order_date) AS first_date\n",
    "FROM sales s\n",
    "LEFT JOIN menu m\n",
    "ON s.product_id=m.product_id\n",
    "GROUP BY s.customer_id"
   ]
  },
  {
   "cell_type": "markdown",
   "id": "0f47ef59-183a-4bb1-8d84-f48874b074f3",
   "metadata": {},
   "source": [
    "## 4. What is the most purchased item on the menu and how many times was it purchased by all customers?"
   ]
  },
  {
   "cell_type": "code",
   "execution_count": 168,
   "id": "6a122cea-65b9-4ca4-aaf2-60702ca5a4c4",
   "metadata": {},
   "outputs": [
    {
     "name": "stdout",
     "output_type": "stream",
     "text": [
      " * sqlite:///question_bank.db\n",
      "Done.\n"
     ]
    },
    {
     "data": {
      "text/html": [
       "<table>\n",
       "    <thead>\n",
       "        <tr>\n",
       "            <th>product_name</th>\n",
       "            <th>no_of_times</th>\n",
       "        </tr>\n",
       "    </thead>\n",
       "    <tbody>\n",
       "        <tr>\n",
       "            <td>ramen</td>\n",
       "            <td>8</td>\n",
       "        </tr>\n",
       "    </tbody>\n",
       "</table>"
      ],
      "text/plain": [
       "[('ramen', 8)]"
      ]
     },
     "execution_count": 168,
     "metadata": {},
     "output_type": "execute_result"
    }
   ],
   "source": [
    "%%sql\n",
    "-- Step1: most purchased item on the menu\n",
    "\n",
    "SELECT m.product_name,COUNT(s.product_id) AS no_of_times\n",
    "FROM sales s\n",
    "JOIN menu m\n",
    "ON s.product_id=m.product_id\n",
    "GROUP BY s.product_id\n",
    "ORDER BY no_of_times DESC\n",
    "LIMIT 1\n",
    "\n",
    "\n",
    "-- most purchased item is ramen\n",
    "-- and it is purchased by all customerds 8 times"
   ]
  },
  {
   "cell_type": "markdown",
   "id": "42d35ccf-ab2f-44d8-8c9a-bb05cad317b4",
   "metadata": {},
   "source": [
    "## 5. Which item was the most popular for each customer?"
   ]
  },
  {
   "cell_type": "code",
   "execution_count": 46,
   "id": "18f862c7-01cc-499b-86ff-d26a80ce8b8e",
   "metadata": {},
   "outputs": [
    {
     "name": "stdout",
     "output_type": "stream",
     "text": [
      " * sqlite:///question_bank.db\n",
      "Done.\n"
     ]
    },
    {
     "data": {
      "text/html": [
       "<table>\n",
       "    <thead>\n",
       "        <tr>\n",
       "            <th>customer_id</th>\n",
       "            <th>product_name</th>\n",
       "            <th>product_id</th>\n",
       "        </tr>\n",
       "    </thead>\n",
       "    <tbody>\n",
       "        <tr>\n",
       "            <td>A</td>\n",
       "            <td>sushi</td>\n",
       "            <td>1</td>\n",
       "        </tr>\n",
       "        <tr>\n",
       "            <td>A</td>\n",
       "            <td>curry</td>\n",
       "            <td>2</td>\n",
       "        </tr>\n",
       "        <tr>\n",
       "            <td>A</td>\n",
       "            <td>curry</td>\n",
       "            <td>2</td>\n",
       "        </tr>\n",
       "        <tr>\n",
       "            <td>A</td>\n",
       "            <td>ramen</td>\n",
       "            <td>3</td>\n",
       "        </tr>\n",
       "        <tr>\n",
       "            <td>A</td>\n",
       "            <td>ramen</td>\n",
       "            <td>3</td>\n",
       "        </tr>\n",
       "        <tr>\n",
       "            <td>A</td>\n",
       "            <td>ramen</td>\n",
       "            <td>3</td>\n",
       "        </tr>\n",
       "        <tr>\n",
       "            <td>B</td>\n",
       "            <td>curry</td>\n",
       "            <td>2</td>\n",
       "        </tr>\n",
       "        <tr>\n",
       "            <td>B</td>\n",
       "            <td>curry</td>\n",
       "            <td>2</td>\n",
       "        </tr>\n",
       "        <tr>\n",
       "            <td>B</td>\n",
       "            <td>sushi</td>\n",
       "            <td>1</td>\n",
       "        </tr>\n",
       "        <tr>\n",
       "            <td>B</td>\n",
       "            <td>sushi</td>\n",
       "            <td>1</td>\n",
       "        </tr>\n",
       "        <tr>\n",
       "            <td>B</td>\n",
       "            <td>ramen</td>\n",
       "            <td>3</td>\n",
       "        </tr>\n",
       "        <tr>\n",
       "            <td>B</td>\n",
       "            <td>ramen</td>\n",
       "            <td>3</td>\n",
       "        </tr>\n",
       "        <tr>\n",
       "            <td>C</td>\n",
       "            <td>ramen</td>\n",
       "            <td>3</td>\n",
       "        </tr>\n",
       "        <tr>\n",
       "            <td>C</td>\n",
       "            <td>ramen</td>\n",
       "            <td>3</td>\n",
       "        </tr>\n",
       "        <tr>\n",
       "            <td>C</td>\n",
       "            <td>ramen</td>\n",
       "            <td>3</td>\n",
       "        </tr>\n",
       "    </tbody>\n",
       "</table>"
      ],
      "text/plain": [
       "[('A', 'sushi', 1),\n",
       " ('A', 'curry', 2),\n",
       " ('A', 'curry', 2),\n",
       " ('A', 'ramen', 3),\n",
       " ('A', 'ramen', 3),\n",
       " ('A', 'ramen', 3),\n",
       " ('B', 'curry', 2),\n",
       " ('B', 'curry', 2),\n",
       " ('B', 'sushi', 1),\n",
       " ('B', 'sushi', 1),\n",
       " ('B', 'ramen', 3),\n",
       " ('B', 'ramen', 3),\n",
       " ('C', 'ramen', 3),\n",
       " ('C', 'ramen', 3),\n",
       " ('C', 'ramen', 3)]"
      ]
     },
     "execution_count": 46,
     "metadata": {},
     "output_type": "execute_result"
    }
   ],
   "source": [
    "%%sql\n",
    "SELECT s.customer_id,m.product_name,s.product_id\n",
    "FROM sales s\n",
    "JOIN menu m\n",
    "ON s.product_id=m.product_id"
   ]
  },
  {
   "cell_type": "code",
   "execution_count": 49,
   "id": "e3f368ed-9e5b-415a-b17d-c5bf13491d51",
   "metadata": {},
   "outputs": [
    {
     "name": "stdout",
     "output_type": "stream",
     "text": [
      " * sqlite:///question_bank.db\n",
      "Done.\n"
     ]
    },
    {
     "data": {
      "text/html": [
       "<table>\n",
       "    <thead>\n",
       "        <tr>\n",
       "            <th>customer_id</th>\n",
       "            <th>product_name</th>\n",
       "            <th>order_count</th>\n",
       "        </tr>\n",
       "    </thead>\n",
       "    <tbody>\n",
       "        <tr>\n",
       "            <td>A</td>\n",
       "            <td>sushi</td>\n",
       "            <td>6</td>\n",
       "        </tr>\n",
       "        <tr>\n",
       "            <td>B</td>\n",
       "            <td>curry</td>\n",
       "            <td>6</td>\n",
       "        </tr>\n",
       "        <tr>\n",
       "            <td>C</td>\n",
       "            <td>ramen</td>\n",
       "            <td>3</td>\n",
       "        </tr>\n",
       "    </tbody>\n",
       "</table>"
      ],
      "text/plain": [
       "[('A', 'sushi', 6), ('B', 'curry', 6), ('C', 'ramen', 3)]"
      ]
     },
     "execution_count": 49,
     "metadata": {},
     "output_type": "execute_result"
    }
   ],
   "source": [
    "%%sql\n",
    "SELECT s.customer_id,m.product_name, COUNT(*) AS order_count\n",
    "FROM sales s\n",
    "JOIN menu m\n",
    "ON s.product_id=m.product_id\n",
    "GROUP BY s.customer_id                                             -- Wider GroupBY"
   ]
  },
  {
   "cell_type": "code",
   "execution_count": 51,
   "id": "0a7ad45a-32ce-4569-9a76-3f5d14a6a3b2",
   "metadata": {},
   "outputs": [
    {
     "name": "stdout",
     "output_type": "stream",
     "text": [
      " * sqlite:///question_bank.db\n",
      "Done.\n"
     ]
    },
    {
     "data": {
      "text/html": [
       "<table>\n",
       "    <thead>\n",
       "        <tr>\n",
       "            <th>customer_id</th>\n",
       "            <th>product_name</th>\n",
       "            <th>order_count</th>\n",
       "        </tr>\n",
       "    </thead>\n",
       "    <tbody>\n",
       "        <tr>\n",
       "            <td>A</td>\n",
       "            <td>ramen</td>\n",
       "            <td>3</td>\n",
       "        </tr>\n",
       "        <tr>\n",
       "            <td>A</td>\n",
       "            <td>curry</td>\n",
       "            <td>2</td>\n",
       "        </tr>\n",
       "        <tr>\n",
       "            <td>A</td>\n",
       "            <td>sushi</td>\n",
       "            <td>1</td>\n",
       "        </tr>\n",
       "        <tr>\n",
       "            <td>B</td>\n",
       "            <td>sushi</td>\n",
       "            <td>2</td>\n",
       "        </tr>\n",
       "        <tr>\n",
       "            <td>B</td>\n",
       "            <td>ramen</td>\n",
       "            <td>2</td>\n",
       "        </tr>\n",
       "        <tr>\n",
       "            <td>B</td>\n",
       "            <td>curry</td>\n",
       "            <td>2</td>\n",
       "        </tr>\n",
       "        <tr>\n",
       "            <td>C</td>\n",
       "            <td>ramen</td>\n",
       "            <td>3</td>\n",
       "        </tr>\n",
       "    </tbody>\n",
       "</table>"
      ],
      "text/plain": [
       "[('A', 'ramen', 3),\n",
       " ('A', 'curry', 2),\n",
       " ('A', 'sushi', 1),\n",
       " ('B', 'sushi', 2),\n",
       " ('B', 'ramen', 2),\n",
       " ('B', 'curry', 2),\n",
       " ('C', 'ramen', 3)]"
      ]
     },
     "execution_count": 51,
     "metadata": {},
     "output_type": "execute_result"
    }
   ],
   "source": [
    "%%sql\n",
    "\n",
    "SELECT s.customer_id,m.product_name, COUNT(*) AS order_count\n",
    "FROM sales s\n",
    "JOIN menu m\n",
    "ON s.product_id=m.product_id\n",
    "GROUP BY s.customer_id, m.product_name                              -- Grouped by customer_id + product_name\n",
    "ORDER BY s.customer_id, order_count DESC"
   ]
  },
  {
   "cell_type": "markdown",
   "id": "6e74df73-5b96-4d77-8f19-4843dddcf04c",
   "metadata": {},
   "source": [
    "* Customer A ordered ramen 3 times, curry 2 times, sushi once.\n",
    "* Customer B ordered curry and sushi equally (2 each).\n",
    "* Customer C ordered ramen the most (3 times)."
   ]
  },
  {
   "cell_type": "code",
   "execution_count": 175,
   "id": "791d5624-c513-45ae-af5f-b67971758bb7",
   "metadata": {},
   "outputs": [
    {
     "name": "stdout",
     "output_type": "stream",
     "text": [
      " * sqlite:///question_bank.db\n",
      "Done.\n"
     ]
    },
    {
     "data": {
      "text/html": [
       "<table>\n",
       "    <thead>\n",
       "        <tr>\n",
       "            <th>customer_id</th>\n",
       "            <th>product_name</th>\n",
       "            <th>order_count</th>\n",
       "            <th>rk</th>\n",
       "        </tr>\n",
       "    </thead>\n",
       "    <tbody>\n",
       "        <tr>\n",
       "            <td>A</td>\n",
       "            <td>sushi</td>\n",
       "            <td>1</td>\n",
       "            <td>1</td>\n",
       "        </tr>\n",
       "        <tr>\n",
       "            <td>A</td>\n",
       "            <td>curry</td>\n",
       "            <td>2</td>\n",
       "            <td>2</td>\n",
       "        </tr>\n",
       "        <tr>\n",
       "            <td>A</td>\n",
       "            <td>ramen</td>\n",
       "            <td>3</td>\n",
       "            <td>3</td>\n",
       "        </tr>\n",
       "        <tr>\n",
       "            <td>B</td>\n",
       "            <td>sushi</td>\n",
       "            <td>2</td>\n",
       "            <td>1</td>\n",
       "        </tr>\n",
       "        <tr>\n",
       "            <td>B</td>\n",
       "            <td>ramen</td>\n",
       "            <td>2</td>\n",
       "            <td>2</td>\n",
       "        </tr>\n",
       "        <tr>\n",
       "            <td>B</td>\n",
       "            <td>curry</td>\n",
       "            <td>2</td>\n",
       "            <td>3</td>\n",
       "        </tr>\n",
       "        <tr>\n",
       "            <td>C</td>\n",
       "            <td>ramen</td>\n",
       "            <td>3</td>\n",
       "            <td>1</td>\n",
       "        </tr>\n",
       "    </tbody>\n",
       "</table>"
      ],
      "text/plain": [
       "[('A', 'sushi', 1, 1),\n",
       " ('A', 'curry', 2, 2),\n",
       " ('A', 'ramen', 3, 3),\n",
       " ('B', 'sushi', 2, 1),\n",
       " ('B', 'ramen', 2, 2),\n",
       " ('B', 'curry', 2, 3),\n",
       " ('C', 'ramen', 3, 1)]"
      ]
     },
     "execution_count": 175,
     "metadata": {},
     "output_type": "execute_result"
    }
   ],
   "source": [
    "%%sql\n",
    "\n",
    "-- USING ROW_NUMBER()\n",
    "\n",
    "WITH temp AS (\n",
    "    SELECT s.customer_id,m.product_name, COUNT(*) AS order_count\n",
    "    FROM sales s\n",
    "    JOIN menu m\n",
    "    ON s.product_id=m.product_id\n",
    "    GROUP BY s.customer_id, m.product_name                      -- Grouped by customer_id + product_name\n",
    "    ORDER BY s.customer_id, order_count DESC  \n",
    ")\n",
    "\n",
    "SELECT *,\n",
    "    ROW_NUMBER() OVER (PARTITION BY customer_id ORDER BY order_count) AS rk\n",
    "FROM temp"
   ]
  },
  {
   "cell_type": "code",
   "execution_count": 176,
   "id": "e6f38390-d36d-4107-9ba0-401605b7fc67",
   "metadata": {},
   "outputs": [
    {
     "name": "stdout",
     "output_type": "stream",
     "text": [
      " * sqlite:///question_bank.db\n",
      "Done.\n"
     ]
    },
    {
     "data": {
      "text/html": [
       "<table>\n",
       "    <thead>\n",
       "        <tr>\n",
       "            <th>customer_id</th>\n",
       "            <th>product_name</th>\n",
       "            <th>order_count</th>\n",
       "            <th>rk</th>\n",
       "        </tr>\n",
       "    </thead>\n",
       "    <tbody>\n",
       "        <tr>\n",
       "            <td>A</td>\n",
       "            <td>ramen</td>\n",
       "            <td>3</td>\n",
       "            <td>1</td>\n",
       "        </tr>\n",
       "        <tr>\n",
       "            <td>A</td>\n",
       "            <td>curry</td>\n",
       "            <td>2</td>\n",
       "            <td>2</td>\n",
       "        </tr>\n",
       "        <tr>\n",
       "            <td>A</td>\n",
       "            <td>sushi</td>\n",
       "            <td>1</td>\n",
       "            <td>3</td>\n",
       "        </tr>\n",
       "        <tr>\n",
       "            <td>B</td>\n",
       "            <td>sushi</td>\n",
       "            <td>2</td>\n",
       "            <td>1</td>\n",
       "        </tr>\n",
       "        <tr>\n",
       "            <td>B</td>\n",
       "            <td>ramen</td>\n",
       "            <td>2</td>\n",
       "            <td>1</td>\n",
       "        </tr>\n",
       "        <tr>\n",
       "            <td>B</td>\n",
       "            <td>curry</td>\n",
       "            <td>2</td>\n",
       "            <td>1</td>\n",
       "        </tr>\n",
       "        <tr>\n",
       "            <td>C</td>\n",
       "            <td>ramen</td>\n",
       "            <td>3</td>\n",
       "            <td>1</td>\n",
       "        </tr>\n",
       "    </tbody>\n",
       "</table>"
      ],
      "text/plain": [
       "[('A', 'ramen', 3, 1),\n",
       " ('A', 'curry', 2, 2),\n",
       " ('A', 'sushi', 1, 3),\n",
       " ('B', 'sushi', 2, 1),\n",
       " ('B', 'ramen', 2, 1),\n",
       " ('B', 'curry', 2, 1),\n",
       " ('C', 'ramen', 3, 1)]"
      ]
     },
     "execution_count": 176,
     "metadata": {},
     "output_type": "execute_result"
    }
   ],
   "source": [
    "%%sql\n",
    "-- USING RANK()\n",
    "\n",
    "\n",
    "WITH temp AS (\n",
    "    SELECT s.customer_id,m.product_name, \n",
    "            COUNT(*) AS order_count,\n",
    "            RANK() OVER (PARTITION BY customer_id ORDER BY COUNT(*) DESC) AS rk\n",
    "    FROM sales s\n",
    "    JOIN menu m\n",
    "    ON s.product_id=m.product_id\n",
    "    GROUP BY s.customer_id, m.product_name                      -- Grouped by customer_id + product_name\n",
    "    ORDER BY s.customer_id, order_count DESC  \n",
    ")\n",
    "\n",
    "SELECT * FROM temp"
   ]
  },
  {
   "cell_type": "code",
   "execution_count": 171,
   "id": "26efa2cf-2222-418b-b4d3-523c642ae316",
   "metadata": {},
   "outputs": [
    {
     "name": "stdout",
     "output_type": "stream",
     "text": [
      " * sqlite:///question_bank.db\n",
      "Done.\n"
     ]
    },
    {
     "data": {
      "text/html": [
       "<table>\n",
       "    <thead>\n",
       "        <tr>\n",
       "            <th>customer_id</th>\n",
       "            <th>product_name</th>\n",
       "            <th>order_count</th>\n",
       "        </tr>\n",
       "    </thead>\n",
       "    <tbody>\n",
       "        <tr>\n",
       "            <td>A</td>\n",
       "            <td>ramen</td>\n",
       "            <td>3</td>\n",
       "        </tr>\n",
       "        <tr>\n",
       "            <td>B</td>\n",
       "            <td>sushi</td>\n",
       "            <td>2</td>\n",
       "        </tr>\n",
       "        <tr>\n",
       "            <td>B</td>\n",
       "            <td>ramen</td>\n",
       "            <td>2</td>\n",
       "        </tr>\n",
       "        <tr>\n",
       "            <td>B</td>\n",
       "            <td>curry</td>\n",
       "            <td>2</td>\n",
       "        </tr>\n",
       "        <tr>\n",
       "            <td>C</td>\n",
       "            <td>ramen</td>\n",
       "            <td>3</td>\n",
       "        </tr>\n",
       "    </tbody>\n",
       "</table>"
      ],
      "text/plain": [
       "[('A', 'ramen', 3),\n",
       " ('B', 'sushi', 2),\n",
       " ('B', 'ramen', 2),\n",
       " ('B', 'curry', 2),\n",
       " ('C', 'ramen', 3)]"
      ]
     },
     "execution_count": 171,
     "metadata": {},
     "output_type": "execute_result"
    }
   ],
   "source": [
    "%%sql\n",
    "-- Most optimised query - using subqueries\n",
    "\n",
    "SELECT customer_id,product_name,order_count\n",
    "FROM (\n",
    "    SELECT s.customer_id,m.product_name, \n",
    "            COUNT(*) AS order_count,\n",
    "            RANK() OVER (PARTITION BY s.customer_id ORDER BY COUNT(*) DESC) AS rk\n",
    "    FROM sales s\n",
    "    JOIN menu m\n",
    "    ON s.product_id=m.product_id\n",
    "    GROUP BY s.customer_id, m.product_name                    \n",
    ") ranked\n",
    "WHERE rk=1"
   ]
  },
  {
   "cell_type": "markdown",
   "id": "62296630-792c-4341-b8c8-9d9b0b439d0c",
   "metadata": {},
   "source": [
    "## 6. Which item was purchased first by the customer after they became a member?"
   ]
  },
  {
   "cell_type": "code",
   "execution_count": 83,
   "id": "cb8b0999-22ea-47a3-af88-8660fe646589",
   "metadata": {},
   "outputs": [
    {
     "name": "stdout",
     "output_type": "stream",
     "text": [
      " * sqlite:///question_bank.db\n",
      "Done.\n"
     ]
    },
    {
     "data": {
      "text/html": [
       "<table>\n",
       "    <thead>\n",
       "        <tr>\n",
       "            <th>customer_id</th>\n",
       "            <th>order_date</th>\n",
       "            <th>product_id</th>\n",
       "            <th>join_date</th>\n",
       "            <th>product_name</th>\n",
       "            <th>rnk</th>\n",
       "        </tr>\n",
       "    </thead>\n",
       "    <tbody>\n",
       "        <tr>\n",
       "            <td>A</td>\n",
       "            <td>2021-01-07</td>\n",
       "            <td>2</td>\n",
       "            <td>2021-01-07</td>\n",
       "            <td>curry</td>\n",
       "            <td>1</td>\n",
       "        </tr>\n",
       "        <tr>\n",
       "            <td>A</td>\n",
       "            <td>2021-01-10</td>\n",
       "            <td>3</td>\n",
       "            <td>2021-01-07</td>\n",
       "            <td>ramen</td>\n",
       "            <td>2</td>\n",
       "        </tr>\n",
       "        <tr>\n",
       "            <td>A</td>\n",
       "            <td>2021-01-11</td>\n",
       "            <td>3</td>\n",
       "            <td>2021-01-07</td>\n",
       "            <td>ramen</td>\n",
       "            <td>3</td>\n",
       "        </tr>\n",
       "        <tr>\n",
       "            <td>A</td>\n",
       "            <td>2021-01-11</td>\n",
       "            <td>3</td>\n",
       "            <td>2021-01-07</td>\n",
       "            <td>ramen</td>\n",
       "            <td>3</td>\n",
       "        </tr>\n",
       "        <tr>\n",
       "            <td>B</td>\n",
       "            <td>2021-01-11</td>\n",
       "            <td>1</td>\n",
       "            <td>2021-01-09</td>\n",
       "            <td>sushi</td>\n",
       "            <td>1</td>\n",
       "        </tr>\n",
       "        <tr>\n",
       "            <td>B</td>\n",
       "            <td>2021-01-16</td>\n",
       "            <td>3</td>\n",
       "            <td>2021-01-09</td>\n",
       "            <td>ramen</td>\n",
       "            <td>2</td>\n",
       "        </tr>\n",
       "        <tr>\n",
       "            <td>B</td>\n",
       "            <td>2021-02-01</td>\n",
       "            <td>3</td>\n",
       "            <td>2021-01-09</td>\n",
       "            <td>ramen</td>\n",
       "            <td>3</td>\n",
       "        </tr>\n",
       "    </tbody>\n",
       "</table>"
      ],
      "text/plain": [
       "[('A', '2021-01-07', 2, '2021-01-07', 'curry', 1),\n",
       " ('A', '2021-01-10', 3, '2021-01-07', 'ramen', 2),\n",
       " ('A', '2021-01-11', 3, '2021-01-07', 'ramen', 3),\n",
       " ('A', '2021-01-11', 3, '2021-01-07', 'ramen', 3),\n",
       " ('B', '2021-01-11', 1, '2021-01-09', 'sushi', 1),\n",
       " ('B', '2021-01-16', 3, '2021-01-09', 'ramen', 2),\n",
       " ('B', '2021-02-01', 3, '2021-01-09', 'ramen', 3)]"
      ]
     },
     "execution_count": 83,
     "metadata": {},
     "output_type": "execute_result"
    }
   ],
   "source": [
    "%%sql\n",
    "-- membership A,B,C, Join dates for three of them\n",
    "\n",
    "SELECT s.customer_id,s.order_date,s.product_id,mem.join_date,m.product_name,\n",
    "    RANK() OVER (PARTITION BY s.customer_id ORDER BY s.order_date) AS rnk\n",
    "FROM sales s\n",
    "JOIN members mem\n",
    "ON s.customer_id=mem.customer_id\n",
    "JOIN menu m\n",
    "ON s.product_id=m.product_id\n",
    "WHERE s.order_date>=mem.join_date"
   ]
  },
  {
   "cell_type": "markdown",
   "id": "0dc33d33-219f-44c6-a047-0768c3b69461",
   "metadata": {},
   "source": [
    "#### Approach\n",
    "1. Join Sales and Members table to bring membership dates into sales\n",
    "2. Filter to only purchases made after joining\n",
    "3. Join with Menu table to get the product items(shushi,ramen,curry)\n",
    "4. Rank - partition by customer order by order_date\n",
    "5. Use Subquery and use where rk=1"
   ]
  },
  {
   "cell_type": "code",
   "execution_count": 84,
   "id": "adbc343f-1e3d-44fc-956e-aec0c1a2b3e5",
   "metadata": {},
   "outputs": [
    {
     "name": "stdout",
     "output_type": "stream",
     "text": [
      " * sqlite:///question_bank.db\n",
      "Done.\n"
     ]
    },
    {
     "data": {
      "text/html": [
       "<table>\n",
       "    <thead>\n",
       "        <tr>\n",
       "            <th>customer_id</th>\n",
       "            <th>product_name</th>\n",
       "            <th>order_date</th>\n",
       "        </tr>\n",
       "    </thead>\n",
       "    <tbody>\n",
       "        <tr>\n",
       "            <td>A</td>\n",
       "            <td>curry</td>\n",
       "            <td>2021-01-07</td>\n",
       "        </tr>\n",
       "        <tr>\n",
       "            <td>B</td>\n",
       "            <td>sushi</td>\n",
       "            <td>2021-01-11</td>\n",
       "        </tr>\n",
       "    </tbody>\n",
       "</table>"
      ],
      "text/plain": [
       "[('A', 'curry', '2021-01-07'), ('B', 'sushi', '2021-01-11')]"
      ]
     },
     "execution_count": 84,
     "metadata": {},
     "output_type": "execute_result"
    }
   ],
   "source": [
    "%%sql\n",
    "\n",
    "SELECT customer_id,product_name,order_date\n",
    "FROM (\n",
    "    SELECT s.customer_id,s.order_date,s.product_id,mem.join_date,m.product_name,\n",
    "    RANK() OVER (PARTITION BY s.customer_id ORDER BY s.order_date) AS rnk\n",
    "    FROM sales s\n",
    "    JOIN members mem\n",
    "    ON s.customer_id=mem.customer_id\n",
    "    JOIN menu m\n",
    "    ON s.product_id=m.product_id\n",
    "    WHERE s.order_date>=mem.join_date \n",
    ") ranked\n",
    "WHERE rnk=1"
   ]
  },
  {
   "cell_type": "markdown",
   "id": "e09c4e01-51aa-44c5-8703-e8a525b02eb2",
   "metadata": {},
   "source": [
    "## 7. Which item was purchased just before the customer became a member?"
   ]
  },
  {
   "cell_type": "code",
   "execution_count": 108,
   "id": "578c595c-4035-4a1b-aaf6-9c1d5496470c",
   "metadata": {},
   "outputs": [
    {
     "name": "stdout",
     "output_type": "stream",
     "text": [
      " * sqlite:///question_bank.db\n",
      "Done.\n"
     ]
    },
    {
     "data": {
      "text/html": [
       "<table>\n",
       "    <thead>\n",
       "        <tr>\n",
       "            <th>customer_id</th>\n",
       "            <th>product_name</th>\n",
       "            <th>order_date</th>\n",
       "            <th>join_date</th>\n",
       "            <th>rk</th>\n",
       "        </tr>\n",
       "    </thead>\n",
       "    <tbody>\n",
       "        <tr>\n",
       "            <td>A</td>\n",
       "            <td>sushi</td>\n",
       "            <td>2021-01-01</td>\n",
       "            <td>2021-01-07</td>\n",
       "            <td>1</td>\n",
       "        </tr>\n",
       "        <tr>\n",
       "            <td>A</td>\n",
       "            <td>curry</td>\n",
       "            <td>2021-01-01</td>\n",
       "            <td>2021-01-07</td>\n",
       "            <td>1</td>\n",
       "        </tr>\n",
       "        <tr>\n",
       "            <td>B</td>\n",
       "            <td>sushi</td>\n",
       "            <td>2021-01-04</td>\n",
       "            <td>2021-01-09</td>\n",
       "            <td>1</td>\n",
       "        </tr>\n",
       "        <tr>\n",
       "            <td>B</td>\n",
       "            <td>curry</td>\n",
       "            <td>2021-01-02</td>\n",
       "            <td>2021-01-09</td>\n",
       "            <td>2</td>\n",
       "        </tr>\n",
       "        <tr>\n",
       "            <td>B</td>\n",
       "            <td>curry</td>\n",
       "            <td>2021-01-01</td>\n",
       "            <td>2021-01-09</td>\n",
       "            <td>3</td>\n",
       "        </tr>\n",
       "    </tbody>\n",
       "</table>"
      ],
      "text/plain": [
       "[('A', 'sushi', '2021-01-01', '2021-01-07', 1),\n",
       " ('A', 'curry', '2021-01-01', '2021-01-07', 1),\n",
       " ('B', 'sushi', '2021-01-04', '2021-01-09', 1),\n",
       " ('B', 'curry', '2021-01-02', '2021-01-09', 2),\n",
       " ('B', 'curry', '2021-01-01', '2021-01-09', 3)]"
      ]
     },
     "execution_count": 108,
     "metadata": {},
     "output_type": "execute_result"
    }
   ],
   "source": [
    "%%sql\n",
    "-- Approach\n",
    "-- Join sales and member table and then join to menu table to get the product_names\n",
    "\n",
    "SELECT customer_id,product_name,order_date,join_date, rk\n",
    "FROM (\n",
    "    SELECT s.customer_id,s.order_date,mem.join_date,m.product_name,\n",
    "        RANK() OVER (PARTITION BY s.customer_id ORDER BY s.order_date DESC) AS rk\n",
    "    FROM sales s\n",
    "    JOIN members mem\n",
    "    ON s.customer_id=mem.customer_id\n",
    "    JOIN menu m\n",
    "    ON s.product_id=m.product_id\n",
    "    WHERE s.order_date<mem.join_date\n",
    ") ranked"
   ]
  },
  {
   "cell_type": "code",
   "execution_count": 178,
   "id": "0d510ae5-f8cd-4077-b870-79cdda5c3351",
   "metadata": {},
   "outputs": [
    {
     "name": "stdout",
     "output_type": "stream",
     "text": [
      " * sqlite:///question_bank.db\n",
      "Done.\n"
     ]
    },
    {
     "data": {
      "text/html": [
       "<table>\n",
       "    <thead>\n",
       "        <tr>\n",
       "            <th>customer_id</th>\n",
       "            <th>product_name</th>\n",
       "            <th>order_date</th>\n",
       "            <th>join_date</th>\n",
       "            <th>rk</th>\n",
       "        </tr>\n",
       "    </thead>\n",
       "    <tbody>\n",
       "        <tr>\n",
       "            <td>A</td>\n",
       "            <td>sushi</td>\n",
       "            <td>2021-01-01</td>\n",
       "            <td>2021-01-07</td>\n",
       "            <td>1</td>\n",
       "        </tr>\n",
       "        <tr>\n",
       "            <td>A</td>\n",
       "            <td>curry</td>\n",
       "            <td>2021-01-01</td>\n",
       "            <td>2021-01-07</td>\n",
       "            <td>1</td>\n",
       "        </tr>\n",
       "        <tr>\n",
       "            <td>B</td>\n",
       "            <td>sushi</td>\n",
       "            <td>2021-01-04</td>\n",
       "            <td>2021-01-09</td>\n",
       "            <td>1</td>\n",
       "        </tr>\n",
       "    </tbody>\n",
       "</table>"
      ],
      "text/plain": [
       "[('A', 'sushi', '2021-01-01', '2021-01-07', 1),\n",
       " ('A', 'curry', '2021-01-01', '2021-01-07', 1),\n",
       " ('B', 'sushi', '2021-01-04', '2021-01-09', 1)]"
      ]
     },
     "execution_count": 178,
     "metadata": {},
     "output_type": "execute_result"
    }
   ],
   "source": [
    "%%sql\n",
    "SELECT customer_id,product_name,order_date,join_date, rk\n",
    "FROM (\n",
    "    SELECT s.customer_id,s.order_date,mem.join_date,m.product_name,\n",
    "    RANK() OVER (PARTITION BY s.customer_id ORDER BY s.order_date DESC) AS rk\n",
    "    FROM sales s\n",
    "    JOIN members mem\n",
    "    ON s.customer_id=mem.customer_id\n",
    "    JOIN menu m\n",
    "    ON s.product_id=m.product_id\n",
    "    WHERE s.order_date<mem.join_date\n",
    ") ranked\n",
    "WHERE rk=1"
   ]
  },
  {
   "cell_type": "markdown",
   "id": "aee3da73-ef78-4490-935b-9fabfb2e1b25",
   "metadata": {},
   "source": [
    "* Best choice here\n",
    "* If the business logic says: “Which item(s) did the customer last eat before becoming a member?” → use RANK() or DENSE_RANK().\n",
    "* If it’s strictly: “Tell me one single item” → use ROW_NUMBER().\n",
    "* If we want a single product_name, use ROW_NUMBER"
   ]
  },
  {
   "cell_type": "markdown",
   "id": "e70706b1-0253-4c58-b765-1ba5748b1c3d",
   "metadata": {},
   "source": [
    "### Using ROW_NUMBER - stricly 1 item before the joining date"
   ]
  },
  {
   "cell_type": "code",
   "execution_count": 110,
   "id": "d3645238-13ce-49d1-a33a-e752188b5ae6",
   "metadata": {},
   "outputs": [
    {
     "name": "stdout",
     "output_type": "stream",
     "text": [
      " * sqlite:///question_bank.db\n",
      "Done.\n"
     ]
    },
    {
     "data": {
      "text/html": [
       "<table>\n",
       "    <thead>\n",
       "        <tr>\n",
       "            <th>customer_id</th>\n",
       "            <th>product_name</th>\n",
       "            <th>order_date</th>\n",
       "            <th>join_date</th>\n",
       "            <th>rk</th>\n",
       "        </tr>\n",
       "    </thead>\n",
       "    <tbody>\n",
       "        <tr>\n",
       "            <td>A</td>\n",
       "            <td>sushi</td>\n",
       "            <td>2021-01-01</td>\n",
       "            <td>2021-01-07</td>\n",
       "            <td>1</td>\n",
       "        </tr>\n",
       "        <tr>\n",
       "            <td>A</td>\n",
       "            <td>curry</td>\n",
       "            <td>2021-01-01</td>\n",
       "            <td>2021-01-07</td>\n",
       "            <td>2</td>\n",
       "        </tr>\n",
       "        <tr>\n",
       "            <td>B</td>\n",
       "            <td>sushi</td>\n",
       "            <td>2021-01-04</td>\n",
       "            <td>2021-01-09</td>\n",
       "            <td>1</td>\n",
       "        </tr>\n",
       "        <tr>\n",
       "            <td>B</td>\n",
       "            <td>curry</td>\n",
       "            <td>2021-01-02</td>\n",
       "            <td>2021-01-09</td>\n",
       "            <td>2</td>\n",
       "        </tr>\n",
       "        <tr>\n",
       "            <td>B</td>\n",
       "            <td>curry</td>\n",
       "            <td>2021-01-01</td>\n",
       "            <td>2021-01-09</td>\n",
       "            <td>3</td>\n",
       "        </tr>\n",
       "    </tbody>\n",
       "</table>"
      ],
      "text/plain": [
       "[('A', 'sushi', '2021-01-01', '2021-01-07', 1),\n",
       " ('A', 'curry', '2021-01-01', '2021-01-07', 2),\n",
       " ('B', 'sushi', '2021-01-04', '2021-01-09', 1),\n",
       " ('B', 'curry', '2021-01-02', '2021-01-09', 2),\n",
       " ('B', 'curry', '2021-01-01', '2021-01-09', 3)]"
      ]
     },
     "execution_count": 110,
     "metadata": {},
     "output_type": "execute_result"
    }
   ],
   "source": [
    "%%sql\n",
    "SELECT customer_id,product_name,order_date,join_date, rk\n",
    "FROM (\n",
    "    SELECT s.customer_id,s.order_date,mem.join_date,m.product_name,\n",
    "    ROW_NUMBER() OVER (PARTITION BY s.customer_id ORDER BY s.order_date DESC) AS rk\n",
    "    FROM sales s\n",
    "    JOIN members mem\n",
    "    ON s.customer_id=mem.customer_id\n",
    "    JOIN menu m\n",
    "    ON s.product_id=m.product_id\n",
    "    WHERE s.order_date<mem.join_date\n",
    ") ranked"
   ]
  },
  {
   "cell_type": "code",
   "execution_count": 112,
   "id": "9fd2a155-bce1-4c9c-b5c6-db297aaa1fb6",
   "metadata": {},
   "outputs": [
    {
     "name": "stdout",
     "output_type": "stream",
     "text": [
      " * sqlite:///question_bank.db\n",
      "Done.\n"
     ]
    },
    {
     "data": {
      "text/html": [
       "<table>\n",
       "    <thead>\n",
       "        <tr>\n",
       "            <th>customer_id</th>\n",
       "            <th>product_name</th>\n",
       "            <th>rk</th>\n",
       "        </tr>\n",
       "    </thead>\n",
       "    <tbody>\n",
       "        <tr>\n",
       "            <td>A</td>\n",
       "            <td>sushi</td>\n",
       "            <td>1</td>\n",
       "        </tr>\n",
       "        <tr>\n",
       "            <td>B</td>\n",
       "            <td>sushi</td>\n",
       "            <td>1</td>\n",
       "        </tr>\n",
       "    </tbody>\n",
       "</table>"
      ],
      "text/plain": [
       "[('A', 'sushi', 1), ('B', 'sushi', 1)]"
      ]
     },
     "execution_count": 112,
     "metadata": {},
     "output_type": "execute_result"
    }
   ],
   "source": [
    "%%sql\n",
    "SELECT customer_id,product_name,rk\n",
    "FROM (\n",
    "    SELECT s.customer_id,s.order_date,mem.join_date,m.product_name,\n",
    "    ROW_NUMBER() OVER (PARTITION BY s.customer_id ORDER BY s.order_date DESC) AS rk\n",
    "    FROM sales s\n",
    "    JOIN members mem\n",
    "    ON s.customer_id=mem.customer_id\n",
    "    JOIN menu m\n",
    "    ON s.product_id=m.product_id\n",
    "    WHERE s.order_date<mem.join_date\n",
    ") ranked\n",
    "WHERE rk=1"
   ]
  },
  {
   "cell_type": "markdown",
   "id": "6623a5f6-4ae4-4d02-b0fe-dedbea098e1c",
   "metadata": {},
   "source": [
    "## 8. What is the total items and amount spent for each member before they became a member?"
   ]
  },
  {
   "cell_type": "code",
   "execution_count": 123,
   "id": "ce0bce55-7680-4bf6-b327-0bf3e0c4e731",
   "metadata": {},
   "outputs": [
    {
     "name": "stdout",
     "output_type": "stream",
     "text": [
      " * sqlite:///question_bank.db\n",
      "Done.\n"
     ]
    },
    {
     "data": {
      "text/html": [
       "<table>\n",
       "    <thead>\n",
       "        <tr>\n",
       "            <th>customer_id</th>\n",
       "            <th>total_items</th>\n",
       "            <th>amt_spent</th>\n",
       "        </tr>\n",
       "    </thead>\n",
       "    <tbody>\n",
       "        <tr>\n",
       "            <td>A</td>\n",
       "            <td>2</td>\n",
       "            <td>25</td>\n",
       "        </tr>\n",
       "        <tr>\n",
       "            <td>B</td>\n",
       "            <td>3</td>\n",
       "            <td>40</td>\n",
       "        </tr>\n",
       "    </tbody>\n",
       "</table>"
      ],
      "text/plain": [
       "[('A', 2, 25), ('B', 3, 40)]"
      ]
     },
     "execution_count": 123,
     "metadata": {},
     "output_type": "execute_result"
    }
   ],
   "source": [
    "%%sql\n",
    "\n",
    "    SELECT s.customer_id,COUNT(m.product_name) AS total_items,SUM(m.price) AS amt_spent\n",
    "    FROM sales s\n",
    "    JOIN members mem\n",
    "    ON s.customer_id=mem.customer_id\n",
    "    JOIN menu m\n",
    "    ON s.product_id=m.product_id\n",
    "    WHERE s.order_date<mem.join_date\n",
    "    GROUP BY s.customer_id"
   ]
  },
  {
   "cell_type": "code",
   "execution_count": 179,
   "id": "6450b66f-26f1-4c6a-ad98-50794ddd789a",
   "metadata": {},
   "outputs": [
    {
     "name": "stdout",
     "output_type": "stream",
     "text": [
      " * sqlite:///question_bank.db\n",
      "Done.\n"
     ]
    },
    {
     "data": {
      "text/html": [
       "<table>\n",
       "    <thead>\n",
       "        <tr>\n",
       "            <th>customer_id</th>\n",
       "            <th>total_items</th>\n",
       "            <th>amt_spent</th>\n",
       "        </tr>\n",
       "    </thead>\n",
       "    <tbody>\n",
       "        <tr>\n",
       "            <td>A</td>\n",
       "            <td>2</td>\n",
       "            <td>25</td>\n",
       "        </tr>\n",
       "        <tr>\n",
       "            <td>B</td>\n",
       "            <td>3</td>\n",
       "            <td>40</td>\n",
       "        </tr>\n",
       "    </tbody>\n",
       "</table>"
      ],
      "text/plain": [
       "[('A', 2, 25), ('B', 3, 40)]"
      ]
     },
     "execution_count": 179,
     "metadata": {},
     "output_type": "execute_result"
    }
   ],
   "source": [
    "%%sql\n",
    "\n",
    "    SELECT s.customer_id,COUNT(m.product_name) AS total_items,SUM(m.price) AS amt_spent\n",
    "    FROM sales s\n",
    "    JOIN menu m\n",
    "    ON s.product_id=m.product_id\n",
    "    JOIN members mem\n",
    "    ON s.customer_id=mem.customer_id\n",
    "    WHERE s.order_date<mem.join_date\n",
    "    GROUP BY s.customer_id"
   ]
  },
  {
   "cell_type": "markdown",
   "id": "6a94cca0-0b8b-4901-a099-fe653f9ad38a",
   "metadata": {},
   "source": [
    "## 9. If each $1 spent equates to 10 points and sushi has a 2x points multiplier"
   ]
  },
  {
   "cell_type": "code",
   "execution_count": 180,
   "id": "9419eb7c-d80e-4012-aacd-23091db2ee0a",
   "metadata": {},
   "outputs": [
    {
     "name": "stdout",
     "output_type": "stream",
     "text": [
      " * sqlite:///question_bank.db\n",
      "Done.\n"
     ]
    },
    {
     "data": {
      "text/html": [
       "<table>\n",
       "    <thead>\n",
       "        <tr>\n",
       "            <th>customer_id</th>\n",
       "            <th>price</th>\n",
       "            <th>product_name</th>\n",
       "            <th>Points</th>\n",
       "        </tr>\n",
       "    </thead>\n",
       "    <tbody>\n",
       "        <tr>\n",
       "            <td>A</td>\n",
       "            <td>10</td>\n",
       "            <td>sushi</td>\n",
       "            <td>200</td>\n",
       "        </tr>\n",
       "        <tr>\n",
       "            <td>A</td>\n",
       "            <td>15</td>\n",
       "            <td>curry</td>\n",
       "            <td>150</td>\n",
       "        </tr>\n",
       "        <tr>\n",
       "            <td>A</td>\n",
       "            <td>15</td>\n",
       "            <td>curry</td>\n",
       "            <td>150</td>\n",
       "        </tr>\n",
       "        <tr>\n",
       "            <td>A</td>\n",
       "            <td>12</td>\n",
       "            <td>ramen</td>\n",
       "            <td>120</td>\n",
       "        </tr>\n",
       "        <tr>\n",
       "            <td>A</td>\n",
       "            <td>12</td>\n",
       "            <td>ramen</td>\n",
       "            <td>120</td>\n",
       "        </tr>\n",
       "        <tr>\n",
       "            <td>A</td>\n",
       "            <td>12</td>\n",
       "            <td>ramen</td>\n",
       "            <td>120</td>\n",
       "        </tr>\n",
       "        <tr>\n",
       "            <td>B</td>\n",
       "            <td>15</td>\n",
       "            <td>curry</td>\n",
       "            <td>150</td>\n",
       "        </tr>\n",
       "        <tr>\n",
       "            <td>B</td>\n",
       "            <td>15</td>\n",
       "            <td>curry</td>\n",
       "            <td>150</td>\n",
       "        </tr>\n",
       "        <tr>\n",
       "            <td>B</td>\n",
       "            <td>10</td>\n",
       "            <td>sushi</td>\n",
       "            <td>200</td>\n",
       "        </tr>\n",
       "        <tr>\n",
       "            <td>B</td>\n",
       "            <td>10</td>\n",
       "            <td>sushi</td>\n",
       "            <td>200</td>\n",
       "        </tr>\n",
       "        <tr>\n",
       "            <td>B</td>\n",
       "            <td>12</td>\n",
       "            <td>ramen</td>\n",
       "            <td>120</td>\n",
       "        </tr>\n",
       "        <tr>\n",
       "            <td>B</td>\n",
       "            <td>12</td>\n",
       "            <td>ramen</td>\n",
       "            <td>120</td>\n",
       "        </tr>\n",
       "        <tr>\n",
       "            <td>C</td>\n",
       "            <td>12</td>\n",
       "            <td>ramen</td>\n",
       "            <td>120</td>\n",
       "        </tr>\n",
       "        <tr>\n",
       "            <td>C</td>\n",
       "            <td>12</td>\n",
       "            <td>ramen</td>\n",
       "            <td>120</td>\n",
       "        </tr>\n",
       "        <tr>\n",
       "            <td>C</td>\n",
       "            <td>12</td>\n",
       "            <td>ramen</td>\n",
       "            <td>120</td>\n",
       "        </tr>\n",
       "    </tbody>\n",
       "</table>"
      ],
      "text/plain": [
       "[('A', 10, 'sushi', 200),\n",
       " ('A', 15, 'curry', 150),\n",
       " ('A', 15, 'curry', 150),\n",
       " ('A', 12, 'ramen', 120),\n",
       " ('A', 12, 'ramen', 120),\n",
       " ('A', 12, 'ramen', 120),\n",
       " ('B', 15, 'curry', 150),\n",
       " ('B', 15, 'curry', 150),\n",
       " ('B', 10, 'sushi', 200),\n",
       " ('B', 10, 'sushi', 200),\n",
       " ('B', 12, 'ramen', 120),\n",
       " ('B', 12, 'ramen', 120),\n",
       " ('C', 12, 'ramen', 120),\n",
       " ('C', 12, 'ramen', 120),\n",
       " ('C', 12, 'ramen', 120)]"
      ]
     },
     "execution_count": 180,
     "metadata": {},
     "output_type": "execute_result"
    }
   ],
   "source": [
    "%%sql\n",
    "-- how many points would each customer have\n",
    "\n",
    "\n",
    "-- 1=1x10 points,\n",
    "-- ramen costs 12-> 12x10=120 points\n",
    "-- shushi 10->10x10x2=200 points\n",
    "\n",
    "SELECT s.customer_id,m.price,m.product_name,\n",
    "    CASE WHEN m.product_name='sushi' THEN price*10*2 ELSE (price*10) END AS Points\n",
    "\n",
    "                                                -- CASE statment, if else condition\n",
    "FROM sales s\n",
    "JOIN menu m\n",
    "ON s.product_id=m.product_id"
   ]
  },
  {
   "cell_type": "code",
   "execution_count": 182,
   "id": "0d72dffe-6a7f-4807-99d2-d6f6bbe433a2",
   "metadata": {},
   "outputs": [
    {
     "name": "stdout",
     "output_type": "stream",
     "text": [
      " * sqlite:///question_bank.db\n",
      "Done.\n"
     ]
    },
    {
     "data": {
      "text/html": [
       "<table>\n",
       "    <thead>\n",
       "        <tr>\n",
       "            <th>customer_id</th>\n",
       "            <th>Total_Points</th>\n",
       "        </tr>\n",
       "    </thead>\n",
       "    <tbody>\n",
       "        <tr>\n",
       "            <td>A</td>\n",
       "            <td>860</td>\n",
       "        </tr>\n",
       "        <tr>\n",
       "            <td>B</td>\n",
       "            <td>940</td>\n",
       "        </tr>\n",
       "        <tr>\n",
       "            <td>C</td>\n",
       "            <td>360</td>\n",
       "        </tr>\n",
       "    </tbody>\n",
       "</table>"
      ],
      "text/plain": [
       "[('A', 860), ('B', 940), ('C', 360)]"
      ]
     },
     "execution_count": 182,
     "metadata": {},
     "output_type": "execute_result"
    }
   ],
   "source": [
    "%%sql\n",
    "\n",
    "SELECT customer_id,SUM(Points) AS Total_Points\n",
    "FROM (\n",
    "    SELECT s.customer_id,m.price,m.product_name,\n",
    "    CASE WHEN m.product_name='sushi' THEN price*10*2 ELSE (price*10) END AS Points\n",
    "    FROM sales s\n",
    "    JOIN menu m\n",
    "    ON s.product_id=m.product_id\n",
    ") AS t                                                  -- 👈 alias required here\n",
    "GROUP BY customer_id"
   ]
  },
  {
   "cell_type": "markdown",
   "id": "c330944a-2c03-4263-9dea-e2d7438974ab",
   "metadata": {},
   "source": [
    "#### Inner query (t)\n",
    "\n",
    "* Calculates points for each purchase (using the sushi multiplier rule).\n",
    "#### Outer query\n",
    "* Groups by customer_id.\n",
    "* Sums up all points to get total_points."
   ]
  },
  {
   "cell_type": "markdown",
   "id": "582fc1e6-1579-430e-a811-72e4ceb7f4fe",
   "metadata": {},
   "source": [
    "## 10. In the first week after a customer joins the program (including their join date) they \n",
    "## earn 2x points on all items, not just sushi - how many points do customer A and B have at the end of January?"
   ]
  },
  {
   "cell_type": "code",
   "execution_count": 184,
   "id": "73a201d6-59eb-485d-bf83-22ca3fdf65c9",
   "metadata": {},
   "outputs": [
    {
     "name": "stdout",
     "output_type": "stream",
     "text": [
      " * sqlite:///question_bank.db\n",
      "Done.\n"
     ]
    },
    {
     "data": {
      "text/html": [
       "<table>\n",
       "    <thead>\n",
       "        <tr>\n",
       "            <th>customer_id</th>\n",
       "            <th>price</th>\n",
       "            <th>product_name</th>\n",
       "            <th>Points</th>\n",
       "            <th>order_date</th>\n",
       "            <th>join_date</th>\n",
       "        </tr>\n",
       "    </thead>\n",
       "    <tbody>\n",
       "        <tr>\n",
       "            <td>A</td>\n",
       "            <td>15</td>\n",
       "            <td>curry</td>\n",
       "            <td>300</td>\n",
       "            <td>2021-01-07</td>\n",
       "            <td>2021-01-07</td>\n",
       "        </tr>\n",
       "        <tr>\n",
       "            <td>A</td>\n",
       "            <td>12</td>\n",
       "            <td>ramen</td>\n",
       "            <td>240</td>\n",
       "            <td>2021-01-10</td>\n",
       "            <td>2021-01-07</td>\n",
       "        </tr>\n",
       "        <tr>\n",
       "            <td>A</td>\n",
       "            <td>12</td>\n",
       "            <td>ramen</td>\n",
       "            <td>240</td>\n",
       "            <td>2021-01-11</td>\n",
       "            <td>2021-01-07</td>\n",
       "        </tr>\n",
       "        <tr>\n",
       "            <td>A</td>\n",
       "            <td>12</td>\n",
       "            <td>ramen</td>\n",
       "            <td>240</td>\n",
       "            <td>2021-01-11</td>\n",
       "            <td>2021-01-07</td>\n",
       "        </tr>\n",
       "        <tr>\n",
       "            <td>B</td>\n",
       "            <td>10</td>\n",
       "            <td>sushi</td>\n",
       "            <td>200</td>\n",
       "            <td>2021-01-11</td>\n",
       "            <td>2021-01-09</td>\n",
       "        </tr>\n",
       "        <tr>\n",
       "            <td>B</td>\n",
       "            <td>12</td>\n",
       "            <td>ramen</td>\n",
       "            <td>240</td>\n",
       "            <td>2021-01-16</td>\n",
       "            <td>2021-01-09</td>\n",
       "        </tr>\n",
       "        <tr>\n",
       "            <td>B</td>\n",
       "            <td>12</td>\n",
       "            <td>ramen</td>\n",
       "            <td>240</td>\n",
       "            <td>2021-02-01</td>\n",
       "            <td>2021-01-09</td>\n",
       "        </tr>\n",
       "    </tbody>\n",
       "</table>"
      ],
      "text/plain": [
       "[('A', 15, 'curry', 300, '2021-01-07', '2021-01-07'),\n",
       " ('A', 12, 'ramen', 240, '2021-01-10', '2021-01-07'),\n",
       " ('A', 12, 'ramen', 240, '2021-01-11', '2021-01-07'),\n",
       " ('A', 12, 'ramen', 240, '2021-01-11', '2021-01-07'),\n",
       " ('B', 10, 'sushi', 200, '2021-01-11', '2021-01-09'),\n",
       " ('B', 12, 'ramen', 240, '2021-01-16', '2021-01-09'),\n",
       " ('B', 12, 'ramen', 240, '2021-02-01', '2021-01-09')]"
      ]
     },
     "execution_count": 184,
     "metadata": {},
     "output_type": "execute_result"
    }
   ],
   "source": [
    "%%sql\n",
    "    SELECT s.customer_id,m.price,m.product_name,price*10*2 AS Points,\n",
    "    s.order_date,mem.join_date\n",
    "    FROM sales s\n",
    "    JOIN menu m\n",
    "    ON s.product_id=m.product_id\n",
    "    JOIN members mem\n",
    "    ON s.customer_id=mem.customer_id\n",
    "    WHERE s.order_date>=mem.join_date \n"
   ]
  },
  {
   "cell_type": "code",
   "execution_count": 186,
   "id": "99e8bc7a-320e-439e-a7de-8a5afbd557be",
   "metadata": {},
   "outputs": [
    {
     "name": "stdout",
     "output_type": "stream",
     "text": [
      " * sqlite:///question_bank.db\n",
      "Done.\n"
     ]
    },
    {
     "data": {
      "text/html": [
       "<table>\n",
       "    <thead>\n",
       "        <tr>\n",
       "            <th>customer_id</th>\n",
       "            <th>total_points</th>\n",
       "        </tr>\n",
       "    </thead>\n",
       "    <tbody>\n",
       "        <tr>\n",
       "            <td>A</td>\n",
       "            <td>1370</td>\n",
       "        </tr>\n",
       "        <tr>\n",
       "            <td>B</td>\n",
       "            <td>820</td>\n",
       "        </tr>\n",
       "    </tbody>\n",
       "</table>"
      ],
      "text/plain": [
       "[('A', 1370), ('B', 820)]"
      ]
     },
     "execution_count": 186,
     "metadata": {},
     "output_type": "execute_result"
    }
   ],
   "source": [
    "%%sql\n",
    "\n",
    "\n",
    "SELECT s.customer_id,\n",
    "    SUM(\n",
    "        CASE WHEN s.order_date BETWEEN mem.join_date AND DATE(mem.join_date,'+6 days') \n",
    "                THEN m.price * 10 * 2                    -- first week condition\n",
    "            WHEN m.product_name='sushi'                  \n",
    "                THEN m.price * 10 * 2                    -- shushi as well\n",
    "            ELSE m.price * 10              -- after one week (post join date), normal price * 10\n",
    "        END\n",
    "    ) AS total_points\n",
    "FROM sales s\n",
    "JOIN menu m\n",
    "ON s.product_id=m.product_id\n",
    "JOIN members mem\n",
    "ON s.customer_id=mem.customer_id\n",
    "WHERE s.order_date<='2021-01-31'\n",
    "GROUP BY s.customer_id\n"
   ]
  },
  {
   "cell_type": "markdown",
   "id": "b5980cfb-4c5a-4954-9f0c-fc9b6a66f5de",
   "metadata": {},
   "source": [
    "So the only difference is:\n",
    "\n",
    "* MySQL: DATE_ADD(date, INTERVAL 6 DAY)\n",
    "* SQLite: DATE(date, '+6 days')"
   ]
  },
  {
   "cell_type": "markdown",
   "id": "d37ff5a2-fc5e-4695-a68d-d815f20d6020",
   "metadata": {},
   "source": [
    "### Key Learnings FROM This CASE STUDY\n",
    "\n",
    "1. Joins mastery\n",
    "\n",
    "Linking multiple tables (sales, menu, members) to enrich raw transactional data.\n",
    "\n",
    "2. Aggregations & grouping\n",
    "\n",
    "Using COUNT, SUM, GROUP BY for customer-level and item-level insights.\n",
    "\n",
    "3. Ranking functions\n",
    "\n",
    "Applying RANK(), DENSE_RANK(), ROW_NUMBER() to find “first purchase”, “most popular item”, etc.\n",
    "\n",
    "4. Date logic\n",
    "\n",
    "Comparing order_date with join_date to separate pre- and post-membership purchases.\n",
    "\n",
    "Applying date arithmetic (DATE_ADD, DATE() + interval) to handle promotional periods.\n",
    "\n",
    "5. Conditional logic with CASE\n",
    "\n",
    "Creating custom metrics like loyalty points with multipliers (2x sushi, 2x joining week, etc).\n",
    "\n",
    "6. Business thinking\n",
    "\n",
    "Translating open-ended business questions (“What is most popular?”, “Who spends the most?”, “Points system?”) into SQL queries.\n",
    "\n",
    "7. Optimization mindset\n",
    "\n",
    "Choosing between subqueries, CTEs, or window functions depending on readability and efficiency.\n",
    "\n",
    "8. Storytelling with data\n",
    "\n",
    "Going beyond raw queries → explaining why an insight matters (e.g., most loyal customers, promo impact)."
   ]
  },
  {
   "cell_type": "code",
   "execution_count": null,
   "id": "0fa04b86-a43d-4c9b-85e9-0ce94422358e",
   "metadata": {},
   "outputs": [],
   "source": []
  }
 ],
 "metadata": {
  "kernelspec": {
   "display_name": "Python [conda env:base] *",
   "language": "python",
   "name": "conda-base-py"
  },
  "language_info": {
   "codemirror_mode": {
    "name": "ipython",
    "version": 3
   },
   "file_extension": ".py",
   "mimetype": "text/x-python",
   "name": "python",
   "nbconvert_exporter": "python",
   "pygments_lexer": "ipython3",
   "version": "3.12.7"
  }
 },
 "nbformat": 4,
 "nbformat_minor": 5
}
